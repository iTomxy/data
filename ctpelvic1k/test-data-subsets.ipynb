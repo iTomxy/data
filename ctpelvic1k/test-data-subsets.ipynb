{
 "cells": [
  {
   "cell_type": "code",
   "execution_count": null,
   "id": "ae8135c3-9f1e-4e34-a7e0-6aa3ac914d4c",
   "metadata": {},
   "outputs": [],
   "source": [
    "import os, os.path as osp, glob\n",
    "import numpy as np\n",
    "# import nibabel as nib\n",
    "import medpy.io as medio\n",
    "# import SimpleITK as sitk\n",
    "# import itk\n",
    "# import matplotlib.pyplot as plt\n",
    "# %matplotlib inline"
   ]
  },
  {
   "cell_type": "code",
   "execution_count": null,
   "id": "6d246d2a-91a9-4e57-babd-9248f62a380f",
   "metadata": {},
   "outputs": [],
   "source": [
    "P = osp.expanduser(\"~/data/ctpelvic1k\")"
   ]
  },
  {
   "cell_type": "markdown",
   "id": "061c0398-52f2-4bd9-94df-64fa4b84f42d",
   "metadata": {
    "jp-MarkdownHeadingCollapsed": true
   },
   "source": [
    "# Annotations\n",
    "Download from [CTPelvic1K Dataset](https://zenodo.org/records/4588403#.YEyLq_0zaCo). Unzip:\n",
    "- CTPelvic1K_dataset1_mask_mappingback.tar.gz -> *dataset1_mask_mappingback/*\n",
    "- CTPelvic1K_dataset2_mask_mappingback.tar.gz -> *dataset2_mask_mappingback/*\n",
    "- CTPelvic1K_dataset3_mask_mappingback.tar.gz -> *dataset3_mask_mappingback/*\n",
    "- CTPelvic1K_dataset4_mask_mappingback.tar.gz -> *dataset4_mask_mappingback/*\n",
    "- CTPelvic1K_dataset5_mask_mappingback.tar.gz -> *dataset5_mask_mappingback/*\n",
    "- CTPelvic1K_dataset6_Anonymized_mask.tar.gz  -> *dataset6_mask_mappingback/*\n",
    "- CTPelvic1K_dataset7_mask_mappingback.tar.gz -> *dataset7_mask_mappingback/*"
   ]
  },
  {
   "cell_type": "markdown",
   "id": "3b071029-f9e0-452f-98bf-00162cb1738c",
   "metadata": {},
   "source": [
    "# 1 [Abdomen](https://www.synapse.org/#!Synapse:syn3376386)\n",
    "\n",
    "Four zip files:\n",
    "- Abdomen.zip\n",
    "- RawData.zip\n",
    "- Reg-Training-Testing.zip\n",
    "- Reg-Training-Training.zip\n",
    "\n",
    "Only use *RawData.zip*. Unzip to *dataset1_abdomen/RawData/*."
   ]
  },
  {
   "cell_type": "code",
   "execution_count": null,
   "id": "36df1acf-ca52-4669-891e-d692fede5909",
   "metadata": {
    "scrolled": true
   },
   "outputs": [],
   "source": [
    "data_p = osp.join(P, \"dataset1_abdomen/RawData\")\n",
    "label_p = osp.join(P, \"dataset1_mask_mappingback\")\n",
    "cnt = 0\n",
    "for subset in os.listdir(data_p):\n",
    "    print('\\t', subset)\n",
    "    subset_p = osp.join(data_p, subset, \"img\")\n",
    "    for f in os.listdir(subset_p):\n",
    "        # img0001.nii.gz, dataset1_img0001_mask_4label.nii.gz\n",
    "        fid = f[:-7]\n",
    "        lab_f = osp.join(label_p, f\"dataset1_{fid}_mask_4label.nii.gz\")\n",
    "        if osp.isfile(lab_f):\n",
    "            print(f, end='\\r')\n",
    "            img, _ = medio.load(osp.join(subset_p, f))\n",
    "            lab, _ = medio.load(lab_f)\n",
    "            # print(img.shape, img.dtype, lab.shape, lab.dtype, np.unique(lab))\n",
    "            assert img.shape == lab.shape, f\"* diff shape: {img.shape} v.s. {lab.shape}\"\n",
    "            cnt += 1\n",
    "print(\"\\ntotal:\", cnt, len(os.listdir(label_p)))"
   ]
  },
  {
   "cell_type": "markdown",
   "id": "56fce6c1-0313-4f2a-abd3-bb981f7e40f8",
   "metadata": {},
   "source": [
    "# 2 [ACRIN 6664 (CT COLONOGRAPHY)](https://wiki.cancerimagingarchive.net/pages/viewpage.action?pageId=3539213)\n",
    "- (2023.12.4) data not downloaded yet"
   ]
  },
  {
   "cell_type": "markdown",
   "id": "9fbf5934-9512-4de6-a907-7aeaba1622aa",
   "metadata": {},
   "source": [
    "# 3 [Task10_Colon.tar](https://drive.google.com/file/d/1m7tMpE9qEcQGQjL_BdMD-Mvgmc44hG1Y/view)\n",
    "Upzip to *dataset3_msd-t10/*."
   ]
  },
  {
   "cell_type": "code",
   "execution_count": null,
   "id": "7d35d284-c465-4dbf-89a0-f6fa94219bad",
   "metadata": {},
   "outputs": [],
   "source": [
    "data_p = osp.join(P, \"dataset3_msd-t10\")\n",
    "label_p = osp.join(P, \"dataset3_mask_mappingback\")\n",
    "cnt = 0\n",
    "for subset in (\"imagesTr\", \"imagesTs\"):\n",
    "    print('\\t', subset)\n",
    "    subset_p = osp.join(data_p, subset)\n",
    "    for f in os.listdir(subset_p):\n",
    "        # colon_001.nii.gz, dataset3_colon_001_mask_4label.nii.gz\n",
    "        fid = f[:-7]\n",
    "        lab_f = osp.join(label_p, f\"dataset3_{fid}_mask_4label.nii.gz\")\n",
    "        if osp.isfile(lab_f):\n",
    "            print(f, end='\\r')\n",
    "            img, _ = medio.load(osp.join(subset_p, f))\n",
    "            lab, _ = medio.load(lab_f)\n",
    "            assert img.shape == lab.shape, f\"* diff shape: {img.shape} v.s. {lab.shape}\"\n",
    "            cnt += 1\n",
    "print(\"\\ntotal:\", cnt, len(os.listdir(label_p)))"
   ]
  },
  {
   "cell_type": "markdown",
   "id": "1dc95c87-2bdb-4037-9b67-c5b2c1b48cd4",
   "metadata": {},
   "source": [
    "# 4 [neheller/kits19](https://github.com/neheller/kits19)\n",
    "Following [Usage](https://github.com/neheller/kits19#usage) to download (using *kits19/starter_code/get_imaging_v2.py*) data into *dataset4_kits19/*."
   ]
  },
  {
   "cell_type": "code",
   "execution_count": null,
   "id": "5f6f51c5-97f5-47b4-9a87-71b6c8dbc7a8",
   "metadata": {},
   "outputs": [],
   "source": [
    "data_p = osp.join(P, \"dataset4_kits19\")\n",
    "label_p = osp.join(P, \"dataset4_mask_mappingback\")\n",
    "cnt = 0\n",
    "for fid in os.listdir(data_p):\n",
    "    # case_00014/imaging.nii.gz, dataset4_case_00014_mask_4label.nii.gz\n",
    "    img_f = osp.join(data_p, fid, \"imaging.nii.gz\")\n",
    "    assert osp.isfile(img_f), img_f\n",
    "    lab_f = osp.join(label_p, f\"dataset4_{fid}_mask_4label.nii.gz\")\n",
    "    if osp.isfile(lab_f):\n",
    "        print(fid, end='\\r')\n",
    "        img, _ = medio.load(img_f)\n",
    "        lab, _ = medio.load(lab_f)\n",
    "        assert img.shape == lab.shape, f\"* diff shape: {img.shape} v.s. {lab.shape}\"\n",
    "        cnt += 1\n",
    "print(\"\\ntotal:\", cnt, len(os.listdir(label_p)))"
   ]
  },
  {
   "cell_type": "markdown",
   "id": "3ac03ef6-ac3d-4226-a105-55aa359475fb",
   "metadata": {},
   "source": [
    "# 5 [Cervix](https://www.synapse.org/#!Synapse:syn3378972)\n",
    "\n",
    "Three zip files:\n",
    "- Cervix.zip\n",
    "- CervixRawData.zip\n",
    "- CervixRegData.zip\n",
    "\n",
    "Only use CervixRawData.zip. Unzip to *dataset5_cervix/RawData/*."
   ]
  },
  {
   "cell_type": "code",
   "execution_count": null,
   "id": "7c3ac1bc-cb36-4343-b1d3-82faeefc1ae7",
   "metadata": {},
   "outputs": [],
   "source": [
    "data_p = osp.join(P, \"dataset5_cervix/RawData\")\n",
    "label_p = osp.join(P, \"dataset5_mask_mappingback\")\n",
    "cnt = 0\n",
    "for subset in os.listdir(data_p):\n",
    "    print('\\t', subset)\n",
    "    subset_p = osp.join(data_p, subset, \"img\")\n",
    "    for f in os.listdir(subset_p):\n",
    "        # 0507688-Image.nii.gz, dataset5_0507688_Image_mask_4label.nii.gz\n",
    "        fid = f[:-7].replace('-', '_')\n",
    "        lab_f = osp.join(label_p, f\"dataset5_{fid}_mask_4label.nii.gz\")\n",
    "        if osp.isfile(lab_f):\n",
    "            print(f, end='\\r')\n",
    "            img, _ = medio.load(osp.join(subset_p, f))\n",
    "            lab, _ = medio.load(lab_f)\n",
    "            # print(img.shape, img.dtype, lab.shape, lab.dtype, np.unique(lab))\n",
    "            assert img.shape == lab.shape, f\"* diff shape: {img.shape} v.s. {lab.shape}\"\n",
    "            cnt += 1\n",
    "print(\"\\ntotal:\", cnt, len(os.listdir(label_p)))"
   ]
  },
  {
   "cell_type": "markdown",
   "id": "17cf7475-13ca-4162-b4d6-54a9dfbbc431",
   "metadata": {},
   "source": [
    "# 6 [CTPelvic1K_dataset6_data.tar.gz](https://zenodo.org/records/4588403#.YEyLq_0zaCo)\n",
    "Download link from [MIRACLE-Center/CTPelvic1K](https://github.com/MIRACLE-Center/CTPelvic1K).\n",
    "Unzip to *dataset6_clinic/*."
   ]
  },
  {
   "cell_type": "code",
   "execution_count": null,
   "id": "9603d10f-8596-4228-8287-2516f5f4f294",
   "metadata": {},
   "outputs": [],
   "source": [
    "data_p = osp.join(P, \"dataset6_clinic\")\n",
    "label_p = osp.join(P, \"dataset6_mask_mappingback\")\n",
    "cnt = 0\n",
    "for f in os.listdir(data_p):\n",
    "    # dataset6_CLINIC_0001_data.nii.gz, dataset6_CLINIC_0001_mask_4label.nii.gz\n",
    "    fid = f[:-12]\n",
    "    lab_f = osp.join(label_p, f\"{fid}_mask_4label.nii.gz\")\n",
    "    if osp.isfile(lab_f):\n",
    "        print(f, end='\\r')\n",
    "        img, _ = medio.load(osp.join(data_p, f))\n",
    "        lab, _ = medio.load(lab_f)\n",
    "        # print(img.shape, img.dtype, lab.shape, lab.dtype, np.unique(lab))\n",
    "        assert img.shape == lab.shape, f\"* diff shape: {img.shape} v.s. {lab.shape}\"\n",
    "        cnt += 1\n",
    "print(\"\\ntotal:\", cnt, len(os.listdir(label_p)))"
   ]
  },
  {
   "cell_type": "markdown",
   "id": "0f382bfe-84d1-495c-849b-4ad7a748ccfb",
   "metadata": {},
   "source": [
    "# 7 [CTPelvic1K_dataset7_data.tar.gz](https://zenodo.org/records/4588403#.YEyLq_0zaCo)\n",
    "Download link from [MIRACLE-Center/CTPelvic1K](https://github.com/MIRACLE-Center/CTPelvic1K).\n",
    "Unzip to *dataset7_clinic_metal/*."
   ]
  },
  {
   "cell_type": "code",
   "execution_count": null,
   "id": "3ebe30ce-f153-4c95-b200-492a20708fe3",
   "metadata": {},
   "outputs": [],
   "source": [
    "data_p = osp.join(P, \"dataset7_clinic_metal\")\n",
    "label_p = osp.join(P, \"dataset7_mask_mappingback\")\n",
    "cnt = 0\n",
    "for f in os.listdir(data_p):\n",
    "    # dataset7_CLINIC_metal_0000_data.nii.gz, CLINIC_metal_0000_mask_4label.nii.gz\n",
    "    fid = f[9:-12]\n",
    "    lab_f = osp.join(label_p, f\"{fid}_mask_4label.nii.gz\")\n",
    "    if osp.isfile(lab_f):\n",
    "        print(f, end='\\r')\n",
    "        img, _ = medio.load(osp.join(data_p, f))\n",
    "        lab, _ = medio.load(lab_f)\n",
    "        # print(img.shape, img.dtype, lab.shape, lab.dtype, np.unique(lab))\n",
    "        assert img.shape == lab.shape, f\"* diff shape: {img.shape} v.s. {lab.shape}\"\n",
    "        cnt += 1\n",
    "print(\"\\ntotal:\", cnt, len(os.listdir(label_p)))"
   ]
  }
 ],
 "metadata": {
  "kernelspec": {
   "display_name": "Python 3 (ipykernel)",
   "language": "python",
   "name": "python3"
  },
  "language_info": {
   "codemirror_mode": {
    "name": "ipython",
    "version": 3
   },
   "file_extension": ".py",
   "mimetype": "text/x-python",
   "name": "python",
   "nbconvert_exporter": "python",
   "pygments_lexer": "ipython3",
   "version": "3.9.18"
  }
 },
 "nbformat": 4,
 "nbformat_minor": 5
}
